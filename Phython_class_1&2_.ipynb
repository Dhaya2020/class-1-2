{
  "cells": [
    {
      "cell_type": "markdown",
      "metadata": {
        "id": "view-in-github",
        "colab_type": "text"
      },
      "source": [
        "<a href=\"https://colab.research.google.com/github/Dhaya2020/class-1-2/blob/main/Phython_class_1%262_.ipynb\" target=\"_parent\"><img src=\"https://colab.research.google.com/assets/colab-badge.svg\" alt=\"Open In Colab\"/></a>"
      ]
    },
    {
      "cell_type": "markdown",
      "id": "b900fb86",
      "metadata": {
        "id": "b900fb86"
      },
      "source": [
        "# Python -  Case Sensitive Language"
      ]
    },
    {
      "cell_type": "markdown",
      "id": "e24779fc",
      "metadata": {
        "id": "e24779fc"
      },
      "source": [
        "# First class (05-02-2022)\n"
      ]
    },
    {
      "cell_type": "markdown",
      "id": "753f18c5",
      "metadata": {
        "id": "753f18c5"
      },
      "source": [
        "## Keyword\n"
      ]
    },
    {
      "cell_type": "code",
      "execution_count": null,
      "id": "43720b8b",
      "metadata": {
        "id": "43720b8b",
        "outputId": "5fa70edc-0514-4e53-d5ac-ba08b74c1d75"
      },
      "outputs": [
        {
          "name": "stdout",
          "output_type": "stream",
          "text": [
            "Hello\n"
          ]
        }
      ],
      "source": [
        "print ('Hello')"
      ]
    },
    {
      "cell_type": "code",
      "execution_count": null,
      "id": "d1558fdd",
      "metadata": {
        "id": "d1558fdd",
        "outputId": "403cf20e-801b-4c90-8ccc-29f43c22d218"
      },
      "outputs": [
        {
          "name": "stdout",
          "output_type": "stream",
          "text": [
            "10\n"
          ]
        }
      ],
      "source": [
        "a = 10\n",
        "print(a)"
      ]
    },
    {
      "cell_type": "code",
      "execution_count": null,
      "id": "a1596bdb",
      "metadata": {
        "id": "a1596bdb",
        "outputId": "4cd939e9-02c8-4823-a163-ba7b1dc832c9"
      },
      "outputs": [
        {
          "name": "stdout",
          "output_type": "stream",
          "text": [
            "True value\n"
          ]
        }
      ],
      "source": [
        "TRUE = \"True value\"\n",
        "print(TRUE)"
      ]
    },
    {
      "cell_type": "code",
      "execution_count": null,
      "id": "469eabd9",
      "metadata": {
        "id": "469eabd9",
        "outputId": "d9f66a51-c8ee-4d14-e085-19c06f83ad33"
      },
      "outputs": [
        {
          "data": {
            "text/plain": [
              "False"
            ]
          },
          "execution_count": 10,
          "metadata": {},
          "output_type": "execute_result"
        }
      ],
      "source": [
        "5 < 3\n"
      ]
    },
    {
      "cell_type": "markdown",
      "id": "1ac4d93f",
      "metadata": {
        "id": "1ac4d93f"
      },
      "source": [
        "## Identifier"
      ]
    },
    {
      "cell_type": "code",
      "execution_count": null,
      "id": "110cdef9",
      "metadata": {
        "id": "110cdef9",
        "outputId": "5301d569-b1f8-47ed-863f-4852ab53cca5"
      },
      "outputs": [
        {
          "name": "stdout",
          "output_type": "stream",
          "text": [
            "First Variable\n"
          ]
        }
      ],
      "source": [
        "var_1 = 'First Variable'\n",
        "print (var_1)"
      ]
    },
    {
      "cell_type": "markdown",
      "id": "89af6c8c",
      "metadata": {
        "id": "89af6c8c"
      },
      "source": [
        "## Python Statement"
      ]
    },
    {
      "cell_type": "code",
      "execution_count": null,
      "id": "7c6012ae",
      "metadata": {
        "id": "7c6012ae",
        "outputId": "7df0343f-89ec-41de-a122-093418123f49"
      },
      "outputs": [
        {
          "name": "stdout",
          "output_type": "stream",
          "text": [
            "11\n"
          ]
        }
      ],
      "source": [
        "digit = 1 + 2 + 3 +\\\n",
        "5\n",
        "print(digit)"
      ]
    },
    {
      "cell_type": "code",
      "execution_count": null,
      "id": "b79340f2",
      "metadata": {
        "id": "b79340f2",
        "outputId": "9795c9b4-3ac1-4cf0-c59c-0e51c2d207ca"
      },
      "outputs": [
        {
          "name": "stdout",
          "output_type": "stream",
          "text": [
            "1 2 3\n"
          ]
        }
      ],
      "source": [
        "a = 1\n",
        "b =2 \n",
        "c=3\n",
        "print (a,b,c)"
      ]
    },
    {
      "cell_type": "markdown",
      "id": "84d7f81e",
      "metadata": {
        "id": "84d7f81e"
      },
      "source": [
        "## Indendation"
      ]
    },
    {
      "cell_type": "code",
      "execution_count": null,
      "id": "e13328e0",
      "metadata": {
        "id": "e13328e0",
        "outputId": "a5e56eb1-3fc1-47cd-d8e8-9f557175618b"
      },
      "outputs": [
        {
          "data": {
            "text/plain": [
              "[1, 2, 3, 4, 5, 6, 7]"
            ]
          },
          "execution_count": 24,
          "metadata": {},
          "output_type": "execute_result"
        }
      ],
      "source": [
        "list(range(1,8)) # end position = n-1"
      ]
    },
    {
      "cell_type": "code",
      "execution_count": null,
      "id": "72657d2b",
      "metadata": {
        "id": "72657d2b",
        "outputId": "d999e253-8cc5-4312-c15c-a13a31cf9bba"
      },
      "outputs": [
        {
          "name": "stdout",
          "output_type": "stream",
          "text": [
            "1\n",
            "2\n",
            "3\n",
            "4\n",
            "5\n"
          ]
        }
      ],
      "source": [
        "for i in range(1,8):\n",
        "    print(i) # do part\n",
        "    if(i == 5):\n",
        "        break\n",
        "    "
      ]
    },
    {
      "cell_type": "code",
      "execution_count": null,
      "id": "de6ec722",
      "metadata": {
        "id": "de6ec722",
        "outputId": "3a3a1368-879f-40e4-ff8e-967600c8c7de"
      },
      "outputs": [
        {
          "name": "stdout",
          "output_type": "stream",
          "text": [
            "1\n",
            "2\n",
            "3\n",
            "4\n",
            "5\n",
            "6\n",
            "7\n",
            "8\n",
            "9\n"
          ]
        }
      ],
      "source": [
        "for i in range(1,10): print(i)"
      ]
    },
    {
      "cell_type": "code",
      "execution_count": null,
      "id": "110b1281",
      "metadata": {
        "id": "110b1281",
        "outputId": "c50b72ba-a147-4b85-8b86-fdeb7704d8fe"
      },
      "outputs": [
        {
          "name": "stdout",
          "output_type": "stream",
          "text": [
            "True\n"
          ]
        }
      ],
      "source": [
        "if True: print ('True')"
      ]
    },
    {
      "cell_type": "markdown",
      "id": "574b6d42",
      "metadata": {
        "id": "574b6d42"
      },
      "source": [
        "## Comment"
      ]
    },
    {
      "cell_type": "code",
      "execution_count": null,
      "id": "2153d7b0",
      "metadata": {
        "id": "2153d7b0",
        "outputId": "00d183c8-374d-461e-8b8d-6dc5b5956c85"
      },
      "outputs": [
        {
          "name": "stdout",
          "output_type": "stream",
          "text": [
            "I am an Software engineer\n",
            "I am an Analyst\n",
            "I am an data engineer\n"
          ]
        }
      ],
      "source": [
        "# who are you?\n",
        "print('I am an Software engineer')\n",
        "print('I am an Analyst')\n",
        "print('I am an data engineer')"
      ]
    },
    {
      "cell_type": "markdown",
      "id": "071e7aea",
      "metadata": {
        "id": "071e7aea"
      },
      "source": [
        "## Multi line comment"
      ]
    },
    {
      "cell_type": "code",
      "execution_count": null,
      "id": "ae485e77",
      "metadata": {
        "id": "ae485e77",
        "outputId": "e1321eff-bf51-456a-e4aa-fb8382a53207"
      },
      "outputs": [
        {
          "data": {
            "text/plain": [
              "' My first line of comment\\nMy second line of comment\\nMy third line of comment'"
            ]
          },
          "execution_count": 35,
          "metadata": {},
          "output_type": "execute_result"
        }
      ],
      "source": [
        "\"\"\" My first line of comment\n",
        "My second line of comment\n",
        "My third line of comment\"\"\"\n"
      ]
    },
    {
      "cell_type": "markdown",
      "id": "37d4283b",
      "metadata": {
        "id": "37d4283b"
      },
      "source": [
        "## Docstring"
      ]
    },
    {
      "cell_type": "code",
      "execution_count": null,
      "id": "0b170aa5",
      "metadata": {
        "id": "0b170aa5"
      },
      "outputs": [],
      "source": [
        "def function1():\n",
        "    \"\"\"My first function to print the statement\"\"\"\n",
        "    print('This is my first function')"
      ]
    },
    {
      "cell_type": "code",
      "execution_count": null,
      "id": "3ae9d915",
      "metadata": {
        "id": "3ae9d915",
        "outputId": "2f24fe69-2cf4-4bd8-b5b6-edeadc18f266"
      },
      "outputs": [
        {
          "name": "stdout",
          "output_type": "stream",
          "text": [
            "This is my first function\n"
          ]
        }
      ],
      "source": [
        "function1( )\n"
      ]
    },
    {
      "cell_type": "code",
      "execution_count": null,
      "id": "efb3527c",
      "metadata": {
        "id": "efb3527c",
        "outputId": "31ecb98b-b4b7-4649-91cc-d4186c87b5a4"
      },
      "outputs": [
        {
          "name": "stdout",
          "output_type": "stream",
          "text": [
            "My first function to print the statement\n"
          ]
        }
      ],
      "source": [
        "print(function1.__doc__)"
      ]
    },
    {
      "cell_type": "code",
      "execution_count": null,
      "id": "cca326f3",
      "metadata": {
        "id": "cca326f3"
      },
      "outputs": [],
      "source": [
        "def addition_function(a, b):\n",
        "    \"\"\"Function to add two number\"\"\"\n",
        "    return a + b"
      ]
    },
    {
      "cell_type": "code",
      "execution_count": null,
      "id": "9ec8fdca",
      "metadata": {
        "id": "9ec8fdca",
        "outputId": "d120fabb-5318-459f-a2f0-47b7628b5324"
      },
      "outputs": [
        {
          "data": {
            "text/plain": [
              "17"
            ]
          },
          "execution_count": 63,
          "metadata": {},
          "output_type": "execute_result"
        }
      ],
      "source": [
        "  addition_function(5, 12)"
      ]
    },
    {
      "cell_type": "code",
      "execution_count": null,
      "id": "a0826c05",
      "metadata": {
        "id": "a0826c05",
        "outputId": "b28828fd-8051-4fd8-d9eb-28cc0c553ed2"
      },
      "outputs": [
        {
          "name": "stdout",
          "output_type": "stream",
          "text": [
            "Function to add two number\n"
          ]
        }
      ],
      "source": [
        "print(addition_function.__doc__)"
      ]
    },
    {
      "cell_type": "markdown",
      "id": "87f1e76f",
      "metadata": {
        "id": "87f1e76f"
      },
      "source": [
        "# Second class (06-02-2022)"
      ]
    },
    {
      "cell_type": "markdown",
      "id": "ecf0c8ec",
      "metadata": {
        "id": "ecf0c8ec"
      },
      "source": [
        "### To know the keywords"
      ]
    },
    {
      "cell_type": "code",
      "execution_count": null,
      "id": "26d9eee2",
      "metadata": {
        "id": "26d9eee2"
      },
      "outputs": [],
      "source": [
        "import keyword"
      ]
    },
    {
      "cell_type": "code",
      "execution_count": null,
      "id": "85d0feca",
      "metadata": {
        "id": "85d0feca",
        "outputId": "76b530ea-0d81-408b-c50e-ad754fc37b13"
      },
      "outputs": [
        {
          "data": {
            "text/plain": [
              "['False',\n",
              " 'None',\n",
              " 'True',\n",
              " '__peg_parser__',\n",
              " 'and',\n",
              " 'as',\n",
              " 'assert',\n",
              " 'async',\n",
              " 'await',\n",
              " 'break',\n",
              " 'class',\n",
              " 'continue',\n",
              " 'def',\n",
              " 'del',\n",
              " 'elif',\n",
              " 'else',\n",
              " 'except',\n",
              " 'finally',\n",
              " 'for',\n",
              " 'from',\n",
              " 'global',\n",
              " 'if',\n",
              " 'import',\n",
              " 'in',\n",
              " 'is',\n",
              " 'lambda',\n",
              " 'nonlocal',\n",
              " 'not',\n",
              " 'or',\n",
              " 'pass',\n",
              " 'raise',\n",
              " 'return',\n",
              " 'try',\n",
              " 'while',\n",
              " 'with',\n",
              " 'yield']"
            ]
          },
          "execution_count": 3,
          "metadata": {},
          "output_type": "execute_result"
        }
      ],
      "source": [
        "keyword.kwlist"
      ]
    },
    {
      "cell_type": "code",
      "execution_count": null,
      "id": "caf8f683",
      "metadata": {
        "id": "caf8f683"
      },
      "outputs": [],
      "source": [
        "from my_package import test_package"
      ]
    },
    {
      "cell_type": "code",
      "execution_count": null,
      "id": "3fb8af23",
      "metadata": {
        "id": "3fb8af23",
        "outputId": "02cefef9-c160-499f-839d-ca77f996eba3"
      },
      "outputs": [
        {
          "name": "stdout",
          "output_type": "stream",
          "text": [
            "PYTHON\n"
          ]
        }
      ],
      "source": [
        "my_package_var = test_package.NAME\n",
        "print(my_package_var)"
      ]
    },
    {
      "cell_type": "code",
      "execution_count": null,
      "id": "72656293",
      "metadata": {
        "id": "72656293"
      },
      "outputs": [],
      "source": [
        "import os"
      ]
    },
    {
      "cell_type": "code",
      "execution_count": null,
      "id": "1d7c0d32",
      "metadata": {
        "id": "1d7c0d32",
        "outputId": "dabf6da5-aab7-4853-efe6-1b5705585e8e"
      },
      "outputs": [
        {
          "data": {
            "text/plain": [
              "'C:\\\\Users\\\\Laksh\\\\Documents'"
            ]
          },
          "execution_count": 7,
          "metadata": {},
          "output_type": "execute_result"
        }
      ],
      "source": [
        "os.getcwd()"
      ]
    },
    {
      "cell_type": "markdown",
      "id": "5936d3c7",
      "metadata": {
        "id": "5936d3c7"
      },
      "source": [
        "## List"
      ]
    },
    {
      "cell_type": "code",
      "execution_count": null,
      "id": "8fe41ead",
      "metadata": {
        "id": "8fe41ead",
        "outputId": "e8e87f56-df75-416e-b622-ec9238295ef4"
      },
      "outputs": [
        {
          "name": "stdout",
          "output_type": "stream",
          "text": [
            "{'two', 1, 3.0}\n"
          ]
        }
      ],
      "source": [
        "list1= {1,'two',3.0}\n",
        "print(list1)"
      ]
    },
    {
      "cell_type": "code",
      "execution_count": null,
      "id": "b4a78192",
      "metadata": {
        "id": "b4a78192",
        "outputId": "c528567b-b630-4c84-d78e-acbc6086be68"
      },
      "outputs": [
        {
          "name": "stdout",
          "output_type": "stream",
          "text": [
            "two\n",
            "1\n",
            "3.0\n"
          ]
        }
      ],
      "source": [
        "for i in list1:\n",
        "    print(i)"
      ]
    },
    {
      "cell_type": "markdown",
      "id": "a8a8067f",
      "metadata": {
        "id": "a8a8067f"
      },
      "source": [
        "## List Comprehension"
      ]
    },
    {
      "cell_type": "code",
      "execution_count": null,
      "id": "04664e78",
      "metadata": {
        "id": "04664e78",
        "outputId": "1cc47ad8-b12d-41ce-caaa-8e35ec35a330"
      },
      "outputs": [
        {
          "data": {
            "text/plain": [
              "[20, 5.3, 25, 7.5]"
            ]
          },
          "execution_count": 20,
          "metadata": {},
          "output_type": "execute_result"
        }
      ],
      "source": [
        "list2 = [20, 5.3, 25, 7.5]\n",
        "[a for a in list2]"
      ]
    },
    {
      "cell_type": "code",
      "execution_count": null,
      "id": "194b4088",
      "metadata": {
        "id": "194b4088",
        "outputId": "b0f2fbeb-4285-408e-fa9a-dfb953b27374"
      },
      "outputs": [
        {
          "data": {
            "text/plain": [
              "[5.3, 7.5]"
            ]
          },
          "execution_count": 19,
          "metadata": {},
          "output_type": "execute_result"
        }
      ],
      "source": [
        "[a for a in list2 if a < 20]"
      ]
    },
    {
      "cell_type": "code",
      "execution_count": null,
      "id": "2855eb9e",
      "metadata": {
        "id": "2855eb9e",
        "outputId": "c7f7044e-342d-4915-c832-9ec2062f552a"
      },
      "outputs": [
        {
          "data": {
            "text/plain": [
              "25"
            ]
          },
          "execution_count": 13,
          "metadata": {},
          "output_type": "execute_result"
        }
      ],
      "source": [
        "list2[2]\n"
      ]
    },
    {
      "cell_type": "markdown",
      "id": "24fcd804",
      "metadata": {
        "id": "24fcd804"
      },
      "source": [
        "## print each value (exp), for each value in the list(for loop), if the each value is less than 20 (condition)\n"
      ]
    },
    {
      "cell_type": "code",
      "execution_count": null,
      "id": "d9ec894b",
      "metadata": {
        "id": "d9ec894b",
        "outputId": "0667bbb7-b315-412f-e768-502a7a6b8af3"
      },
      "outputs": [
        {
          "data": {
            "text/plain": [
              "[0, 1, 2, 3, 4]"
            ]
          },
          "execution_count": 21,
          "metadata": {},
          "output_type": "execute_result"
        }
      ],
      "source": [
        "list(range(5))"
      ]
    },
    {
      "cell_type": "code",
      "execution_count": null,
      "id": "99f98cf7",
      "metadata": {
        "id": "99f98cf7",
        "outputId": "0a6fd8de-c775-49dc-8af1-ddac55ff8b41"
      },
      "outputs": [
        {
          "data": {
            "text/plain": [
              "25"
            ]
          },
          "execution_count": 22,
          "metadata": {},
          "output_type": "execute_result"
        }
      ],
      "source": [
        "list2[2]"
      ]
    },
    {
      "cell_type": "code",
      "execution_count": null,
      "id": "514c55a2",
      "metadata": {
        "id": "514c55a2"
      },
      "outputs": [],
      "source": [
        "power2 = [a**2 for a in range(11)]"
      ]
    },
    {
      "cell_type": "code",
      "execution_count": null,
      "id": "d84777c1",
      "metadata": {
        "id": "d84777c1",
        "outputId": "b685a427-e13f-4699-f854-bc856a529cd4"
      },
      "outputs": [
        {
          "data": {
            "text/plain": [
              "[0, 1, 2, 3, 4, 5, 6, 7, 8, 9, 10]"
            ]
          },
          "execution_count": 37,
          "metadata": {},
          "output_type": "execute_result"
        }
      ],
      "source": [
        "list(range(11))"
      ]
    },
    {
      "cell_type": "code",
      "execution_count": null,
      "id": "97601581",
      "metadata": {
        "id": "97601581",
        "outputId": "5d7876fc-b2ee-4539-fcd8-dd2f9f461292"
      },
      "outputs": [
        {
          "data": {
            "text/plain": [
              "[0, 1, 4, 9, 16, 25, 36, 49, 64, 81, 100]"
            ]
          },
          "execution_count": 38,
          "metadata": {},
          "output_type": "execute_result"
        }
      ],
      "source": [
        "power2"
      ]
    },
    {
      "cell_type": "markdown",
      "id": "079cdd01",
      "metadata": {
        "id": "079cdd01"
      },
      "source": [
        "## Slicing"
      ]
    },
    {
      "cell_type": "code",
      "execution_count": null,
      "id": "e1667010",
      "metadata": {
        "id": "e1667010"
      },
      "outputs": [],
      "source": [
        "list3 = [1,2,3,4,5,6,7,8,9,10]"
      ]
    },
    {
      "cell_type": "code",
      "execution_count": null,
      "id": "5dff3e80",
      "metadata": {
        "id": "5dff3e80",
        "outputId": "ac982cbc-e60c-43cc-d31e-2aeca5ef1688"
      },
      "outputs": [
        {
          "data": {
            "text/plain": [
              "1"
            ]
          },
          "execution_count": 41,
          "metadata": {},
          "output_type": "execute_result"
        }
      ],
      "source": [
        "list3[0]"
      ]
    },
    {
      "cell_type": "code",
      "execution_count": null,
      "id": "43681816",
      "metadata": {
        "id": "43681816",
        "outputId": "88021fa1-2bf4-4b37-da34-9d9eb2c4f54c"
      },
      "outputs": [
        {
          "data": {
            "text/plain": [
              "[3, 4, 5]"
            ]
          },
          "execution_count": 42,
          "metadata": {},
          "output_type": "execute_result"
        }
      ],
      "source": [
        "list3[2:5]"
      ]
    },
    {
      "cell_type": "code",
      "execution_count": null,
      "id": "7450244c",
      "metadata": {
        "id": "7450244c",
        "outputId": "0ea63ffc-49a4-4952-a4ab-c1f614c0960c"
      },
      "outputs": [
        {
          "data": {
            "text/plain": [
              "8"
            ]
          },
          "execution_count": 43,
          "metadata": {},
          "output_type": "execute_result"
        }
      ],
      "source": [
        "list3[-3]"
      ]
    },
    {
      "cell_type": "markdown",
      "id": "58321ea7",
      "metadata": {
        "id": "58321ea7"
      },
      "source": [
        "## list is mutable"
      ]
    },
    {
      "cell_type": "code",
      "execution_count": null,
      "id": "f50072d2",
      "metadata": {
        "id": "f50072d2"
      },
      "outputs": [],
      "source": [
        "list3[3] =14"
      ]
    },
    {
      "cell_type": "code",
      "execution_count": null,
      "id": "1d508abe",
      "metadata": {
        "id": "1d508abe",
        "outputId": "73e67366-97f8-48cc-dcba-fc92de80abb3"
      },
      "outputs": [
        {
          "data": {
            "text/plain": [
              "[1, 2, 3, 14, 5, 6, 7, 8, 9, 10]"
            ]
          },
          "execution_count": 45,
          "metadata": {},
          "output_type": "execute_result"
        }
      ],
      "source": [
        "list3"
      ]
    },
    {
      "cell_type": "markdown",
      "id": "f7f9711d",
      "metadata": {
        "id": "f7f9711d"
      },
      "source": [
        "## Tuple is immutable"
      ]
    },
    {
      "cell_type": "code",
      "execution_count": null,
      "id": "09a9e31a",
      "metadata": {
        "id": "09a9e31a"
      },
      "outputs": [],
      "source": [
        "a =(1, 2, 3, 4, 5)"
      ]
    },
    {
      "cell_type": "code",
      "execution_count": null,
      "id": "12d06c86",
      "metadata": {
        "id": "12d06c86",
        "outputId": "3dc200ea-693a-434e-8753-f3566414430f"
      },
      "outputs": [
        {
          "data": {
            "text/plain": [
              "(3, 4, 5)"
            ]
          },
          "execution_count": 50,
          "metadata": {},
          "output_type": "execute_result"
        }
      ],
      "source": [
        "a[2:6]"
      ]
    },
    {
      "cell_type": "code",
      "execution_count": null,
      "id": "873028b2",
      "metadata": {
        "id": "873028b2",
        "outputId": "bfa396d6-18ee-4f2a-e441-1fe6f56f4abb"
      },
      "outputs": [
        {
          "ename": "TypeError",
          "evalue": "'tuple' object does not support item assignment",
          "output_type": "error",
          "traceback": [
            "\u001b[1;31m---------------------------------------------------------------------------\u001b[0m",
            "\u001b[1;31mTypeError\u001b[0m                                 Traceback (most recent call last)",
            "\u001b[1;32m~\\AppData\\Local\\Temp/ipykernel_15096/442785952.py\u001b[0m in \u001b[0;36m<module>\u001b[1;34m\u001b[0m\n\u001b[1;32m----> 1\u001b[1;33m \u001b[0ma\u001b[0m\u001b[1;33m[\u001b[0m\u001b[1;36m2\u001b[0m\u001b[1;33m]\u001b[0m \u001b[1;33m=\u001b[0m \u001b[1;36m13\u001b[0m\u001b[1;33m\u001b[0m\u001b[1;33m\u001b[0m\u001b[0m\n\u001b[0m",
            "\u001b[1;31mTypeError\u001b[0m: 'tuple' object does not support item assignment"
          ]
        }
      ],
      "source": [
        "a[2] = 13\n"
      ]
    },
    {
      "cell_type": "markdown",
      "id": "940c46ba",
      "metadata": {
        "id": "940c46ba"
      },
      "source": [
        "## String"
      ]
    },
    {
      "cell_type": "code",
      "execution_count": null,
      "id": "808c7616",
      "metadata": {
        "id": "808c7616",
        "outputId": "e705c538-04bb-4d86-af7c-4692135d6195"
      },
      "outputs": [
        {
          "name": "stdout",
          "output_type": "stream",
          "text": [
            "This is a string\n"
          ]
        },
        {
          "data": {
            "text/plain": [
              "str"
            ]
          },
          "execution_count": 53,
          "metadata": {},
          "output_type": "execute_result"
        }
      ],
      "source": [
        "s = \"This is a string\"\n",
        "print(s)\n",
        "type(s)"
      ]
    },
    {
      "cell_type": "code",
      "execution_count": null,
      "id": "59d9012a",
      "metadata": {
        "id": "59d9012a",
        "outputId": "23d9e483-8316-4f33-f89e-924d4d5c0375"
      },
      "outputs": [
        {
          "data": {
            "text/plain": [
              "'string'"
            ]
          },
          "execution_count": 54,
          "metadata": {},
          "output_type": "execute_result"
        }
      ],
      "source": [
        "s[-6:]"
      ]
    },
    {
      "cell_type": "markdown",
      "id": "186c8182",
      "metadata": {
        "id": "186c8182"
      },
      "source": [
        "## Set - unordered"
      ]
    },
    {
      "cell_type": "code",
      "execution_count": null,
      "id": "18d5447e",
      "metadata": {
        "id": "18d5447e"
      },
      "outputs": [],
      "source": [
        "set1 = {1, 2, 3, 4, 5}"
      ]
    },
    {
      "cell_type": "code",
      "execution_count": null,
      "id": "9325d6ac",
      "metadata": {
        "id": "9325d6ac",
        "outputId": "466c40c8-4e5a-4e45-d577-04ff18fc6e71"
      },
      "outputs": [
        {
          "data": {
            "text/plain": [
              "set"
            ]
          },
          "execution_count": 56,
          "metadata": {},
          "output_type": "execute_result"
        }
      ],
      "source": [
        "type(set1)"
      ]
    },
    {
      "cell_type": "code",
      "execution_count": null,
      "id": "4deb5567",
      "metadata": {
        "id": "4deb5567",
        "outputId": "265915a0-8533-4db5-862b-540f47eaf7f7"
      },
      "outputs": [
        {
          "ename": "TypeError",
          "evalue": "'set' object is not subscriptable",
          "output_type": "error",
          "traceback": [
            "\u001b[1;31m---------------------------------------------------------------------------\u001b[0m",
            "\u001b[1;31mTypeError\u001b[0m                                 Traceback (most recent call last)",
            "\u001b[1;32m~\\AppData\\Local\\Temp/ipykernel_15096/2367749814.py\u001b[0m in \u001b[0;36m<module>\u001b[1;34m\u001b[0m\n\u001b[1;32m----> 1\u001b[1;33m \u001b[0mset1\u001b[0m\u001b[1;33m[\u001b[0m\u001b[1;36m2\u001b[0m\u001b[1;33m]\u001b[0m\u001b[1;33m\u001b[0m\u001b[1;33m\u001b[0m\u001b[0m\n\u001b[0m",
            "\u001b[1;31mTypeError\u001b[0m: 'set' object is not subscriptable"
          ]
        }
      ],
      "source": [
        "set1[2]"
      ]
    },
    {
      "cell_type": "code",
      "execution_count": null,
      "id": "faee251e",
      "metadata": {
        "id": "faee251e"
      },
      "outputs": [],
      "source": [
        "set2= {1,1,1,1,1,1,2,2,2,2,2,4,3,3,3,3}"
      ]
    },
    {
      "cell_type": "code",
      "execution_count": null,
      "id": "396f233d",
      "metadata": {
        "id": "396f233d",
        "outputId": "e3e94f1b-3e8c-458c-86da-2022ba66cd15"
      },
      "outputs": [
        {
          "data": {
            "text/plain": [
              "{1, 2, 3, 4}"
            ]
          },
          "execution_count": 59,
          "metadata": {},
          "output_type": "execute_result"
        }
      ],
      "source": [
        "set2"
      ]
    },
    {
      "cell_type": "markdown",
      "id": "06015efe",
      "metadata": {
        "id": "06015efe"
      },
      "source": [
        "## Dictionary\n"
      ]
    },
    {
      "cell_type": "markdown",
      "id": "dfd0024f",
      "metadata": {
        "id": "dfd0024f"
      },
      "source": [
        "### unordered collection of the key balue pair"
      ]
    },
    {
      "cell_type": "code",
      "execution_count": null,
      "id": "7a3679c7",
      "metadata": {
        "id": "7a3679c7"
      },
      "outputs": [],
      "source": [
        "dict1 = {1: 'value1', 2:'value2', 3:'value3'}"
      ]
    },
    {
      "cell_type": "code",
      "execution_count": null,
      "id": "01efa9b6",
      "metadata": {
        "id": "01efa9b6",
        "outputId": "586de8c5-6ee9-47f7-d1cf-4f085fb25286"
      },
      "outputs": [
        {
          "data": {
            "text/plain": [
              "dict"
            ]
          },
          "execution_count": 7,
          "metadata": {},
          "output_type": "execute_result"
        }
      ],
      "source": [
        "type(dict1)"
      ]
    },
    {
      "cell_type": "code",
      "execution_count": null,
      "id": "66460c70",
      "metadata": {
        "id": "66460c70",
        "outputId": "d97543d4-bfdc-4836-dff5-db4f1b5b79be"
      },
      "outputs": [
        {
          "data": {
            "text/plain": [
              "('value1', 'value3')"
            ]
          },
          "execution_count": 11,
          "metadata": {},
          "output_type": "execute_result"
        }
      ],
      "source": [
        "dict1[1], dict1[3]"
      ]
    }
  ],
  "metadata": {
    "kernelspec": {
      "display_name": "Python 3 (ipykernel)",
      "language": "python",
      "name": "python3"
    },
    "language_info": {
      "codemirror_mode": {
        "name": "ipython",
        "version": 3
      },
      "file_extension": ".py",
      "mimetype": "text/x-python",
      "name": "python",
      "nbconvert_exporter": "python",
      "pygments_lexer": "ipython3",
      "version": "3.9.7"
    },
    "colab": {
      "name": "Phython class 1&2 .ipynb",
      "provenance": [],
      "collapsed_sections": [
        "24fcd804",
        "079cdd01",
        "58321ea7",
        "f7f9711d",
        "940c46ba"
      ],
      "include_colab_link": true
    }
  },
  "nbformat": 4,
  "nbformat_minor": 5
}